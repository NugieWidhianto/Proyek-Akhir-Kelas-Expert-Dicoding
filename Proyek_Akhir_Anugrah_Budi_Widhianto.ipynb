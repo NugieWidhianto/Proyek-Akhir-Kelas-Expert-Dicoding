{
  "cells": [
    {
      "cell_type": "markdown",
      "metadata": {
        "id": "Wn47IxKICP9I"
      },
      "source": [
        "# **Proyek Akhir: Menyelesaikan Permasalahan Perusahaan Edutech**"
      ]
    },
    {
      "cell_type": "markdown",
      "metadata": {
        "id": "vP3cp-zJCP9J"
      },
      "source": [
        "- Nama        : Anugrah Budi Widhianto\n",
        "- Email       : Nugiewidhianto@gmail.com\n",
        "- Id Dicoding :"
      ]
    },
    {
      "cell_type": "markdown",
      "source": [
        "# **Table of Contents**"
      ],
      "metadata": {
        "id": "_stCyNp8Cqtu"
      }
    },
    {
      "cell_type": "markdown",
      "source": [
        ">[Proyek Akhir: Menyelesaikan Permasalahan Perusahaan Edutech](#scrollTo=Wn47IxKICP9I)\n",
        "\n",
        ">[Table of Contents](#scrollTo=_stCyNp8Cqtu)\n",
        "\n",
        ">[Project's Preparation](#scrollTo=wBixRXs9CP9J)\n",
        "\n",
        ">>[Setting Up Libraries](#scrollTo=kaXrxWrACP9J)\n",
        "\n",
        ">[Data Gather & Preparation](#scrollTo=7fxFWF9XCP9K)\n",
        "\n",
        ">>[CSV's file reading](#scrollTo=XLdUD-PVCP9K)\n",
        "\n",
        ">>[Setting to show all of the data](#scrollTo=sz_VUNEtCP9L)\n",
        "\n",
        ">[Data Understanding](#scrollTo=7KnMI5DHCP9L)\n",
        "\n",
        ">>[Showing the first 5 Data in the dataset](#scrollTo=qYMiLkeOCP9L)\n",
        "\n",
        ">>[General information of columns and data from the dataset](#scrollTo=KA6XN7AkCP9L)\n",
        "\n",
        ">>[Mengecek distribusi nilai pada setiap fitur](#scrollTo=x84ajDcHCP9M)\n",
        "\n",
        ">>[Mengecek distribusi nilai pada label Status](#scrollTo=l4Zuzd9ACP9M)\n",
        "\n",
        ">>[Visualisasi distribusi fitur utama](#scrollTo=mJ7zQk_sCP9M)\n",
        "\n",
        ">[Data Preparation / Preprocessing](#scrollTo=-EjZo9QACP9M)\n",
        "\n",
        ">>[Memisahkan fitur dan target variable](#scrollTo=YJrMcTI0CP9M)\n",
        "\n",
        ">>[Membagi data menjadi training dan testing set](#scrollTo=Tcy09N8PCP9M)\n",
        "\n",
        ">>[Standarisasi fitur](#scrollTo=_j-lulTQCP9N)\n",
        "\n",
        ">[Modeling](#scrollTo=YOgR5LgBCP9N)\n",
        "\n",
        ">>[Membuat model Random Forest](#scrollTo=Bcd72TccCP9N)\n",
        "\n",
        ">>[Memprediksi hasil untuk testing set](#scrollTo=_8O9h8TECP9N)\n",
        "\n",
        ">>[Menyimpan model dan scaler](#scrollTo=goAe7gbqCP9N)\n",
        "\n",
        ">[Evaluation](#scrollTo=Tsc2Rb0qCP9N)\n",
        "\n",
        ">>[Visualisasi Fitur yang berpengaruh pada Status](#scrollTo=k9G_E3E_CP9N)\n",
        "\n",
        ">>[Box plot antara Status dan Curricular_units_1st_sem_grade](#scrollTo=FJsRnSC7CP9R)\n",
        "\n",
        ">>[Memuat model Random Forest yang telah disimpan](#scrollTo=IMNvTvF2CP9R)\n",
        "\n",
        ">>[Buat Data baru untuk testing model](#scrollTo=z6x2t97QCP9S)\n",
        "\n",
        ">>[Prediksi Pada Data Siswa Baru (Example data yang sebelumnya sudah kita buat)](#scrollTo=KLTlIkndCP9S)\n",
        "\n"
      ],
      "metadata": {
        "colab_type": "toc",
        "id": "Xoy80hTBC4dU"
      }
    },
    {
      "cell_type": "markdown",
      "metadata": {
        "id": "wBixRXs9CP9J"
      },
      "source": [
        "# **Project's Preparation**"
      ]
    },
    {
      "cell_type": "markdown",
      "metadata": {
        "id": "kaXrxWrACP9J"
      },
      "source": [
        "## Setting Up Libraries"
      ]
    },
    {
      "cell_type": "code",
      "source": [
        "from google.colab import drive\n",
        "drive.mount('/content/drive')"
      ],
      "metadata": {
        "colab": {
          "base_uri": "https://localhost:8080/"
        },
        "id": "S3PkXl3IDJS5",
        "outputId": "b6a52a42-a270-476b-eedf-cbfd066cae25"
      },
      "execution_count": 3,
      "outputs": [
        {
          "output_type": "stream",
          "name": "stdout",
          "text": [
            "Mounted at /content/drive\n"
          ]
        }
      ]
    },
    {
      "cell_type": "code",
      "execution_count": 4,
      "metadata": {
        "id": "-cIwZ-YwCP9K"
      },
      "outputs": [],
      "source": [
        "import pandas as pd\n",
        "import numpy as np\n",
        "import matplotlib.pyplot as plt\n",
        "import seaborn as sns\n",
        "from sklearn.model_selection import train_test_split\n",
        "from sklearn.preprocessing import StandardScaler, LabelEncoder\n",
        "from sklearn.ensemble import RandomForestClassifier\n",
        "from sklearn.metrics import classification_report, confusion_matrix, accuracy_score\n",
        "import plotly.express as px\n",
        "import plotly.graph_objects as go\n",
        "from joblib import dump, load"
      ]
    },
    {
      "cell_type": "markdown",
      "metadata": {
        "id": "7fxFWF9XCP9K"
      },
      "source": [
        "# **Data Gather & Preparation**"
      ]
    },
    {
      "cell_type": "markdown",
      "metadata": {
        "id": "XLdUD-PVCP9K"
      },
      "source": [
        "## CSV's file reading"
      ]
    },
    {
      "cell_type": "code",
      "execution_count": 5,
      "metadata": {
        "id": "JFHN4aHpCP9K"
      },
      "outputs": [],
      "source": [
        "df = pd.read_csv('/content/drive/MyDrive/data.csv', delimiter=';')"
      ]
    },
    {
      "cell_type": "markdown",
      "metadata": {
        "id": "sz_VUNEtCP9L"
      },
      "source": [
        "## Setting to show all of the data"
      ]
    },
    {
      "cell_type": "code",
      "execution_count": 6,
      "metadata": {
        "id": "5JNXsDzBCP9L"
      },
      "outputs": [],
      "source": [
        "pd.set_option('display.max_columns', None)\n",
        "pd.set_option('display.max_rows', None)"
      ]
    },
    {
      "cell_type": "markdown",
      "metadata": {
        "id": "7KnMI5DHCP9L"
      },
      "source": [
        "# **Data Understanding**"
      ]
    },
    {
      "cell_type": "markdown",
      "metadata": {
        "id": "qYMiLkeOCP9L"
      },
      "source": [
        "## Showing the first 5 Data in the dataset"
      ]
    },
    {
      "cell_type": "code",
      "execution_count": 7,
      "metadata": {
        "colab": {
          "base_uri": "https://localhost:8080/",
          "height": 226
        },
        "id": "QNFIPN1YCP9L",
        "outputId": "b83fb796-6854-463b-8ddf-52dcd7105233"
      },
      "outputs": [
        {
          "output_type": "execute_result",
          "data": {
            "text/plain": [
              "   Marital_status  Application_mode  Application_order  Course  \\\n",
              "0               1                17                  5     171   \n",
              "1               1                15                  1    9254   \n",
              "2               1                 1                  5    9070   \n",
              "3               1                17                  2    9773   \n",
              "4               2                39                  1    8014   \n",
              "\n",
              "   Daytime_evening_attendance  Previous_qualification  \\\n",
              "0                           1                       1   \n",
              "1                           1                       1   \n",
              "2                           1                       1   \n",
              "3                           1                       1   \n",
              "4                           0                       1   \n",
              "\n",
              "   Previous_qualification_grade  Nacionality  Mothers_qualification  \\\n",
              "0                         122.0            1                     19   \n",
              "1                         160.0            1                      1   \n",
              "2                         122.0            1                     37   \n",
              "3                         122.0            1                     38   \n",
              "4                         100.0            1                     37   \n",
              "\n",
              "   Fathers_qualification  Mothers_occupation  Fathers_occupation  \\\n",
              "0                     12                   5                   9   \n",
              "1                      3                   3                   3   \n",
              "2                     37                   9                   9   \n",
              "3                     37                   5                   3   \n",
              "4                     38                   9                   9   \n",
              "\n",
              "   Admission_grade  Displaced  Educational_special_needs  Debtor  \\\n",
              "0            127.3          1                          0       0   \n",
              "1            142.5          1                          0       0   \n",
              "2            124.8          1                          0       0   \n",
              "3            119.6          1                          0       0   \n",
              "4            141.5          0                          0       0   \n",
              "\n",
              "   Tuition_fees_up_to_date  Gender  Scholarship_holder  Age_at_enrollment  \\\n",
              "0                        1       1                   0                 20   \n",
              "1                        0       1                   0                 19   \n",
              "2                        0       1                   0                 19   \n",
              "3                        1       0                   0                 20   \n",
              "4                        1       0                   0                 45   \n",
              "\n",
              "   International  Curricular_units_1st_sem_credited  \\\n",
              "0              0                                  0   \n",
              "1              0                                  0   \n",
              "2              0                                  0   \n",
              "3              0                                  0   \n",
              "4              0                                  0   \n",
              "\n",
              "   Curricular_units_1st_sem_enrolled  Curricular_units_1st_sem_evaluations  \\\n",
              "0                                  0                                     0   \n",
              "1                                  6                                     6   \n",
              "2                                  6                                     0   \n",
              "3                                  6                                     8   \n",
              "4                                  6                                     9   \n",
              "\n",
              "   Curricular_units_1st_sem_approved  Curricular_units_1st_sem_grade  \\\n",
              "0                                  0                        0.000000   \n",
              "1                                  6                       14.000000   \n",
              "2                                  0                        0.000000   \n",
              "3                                  6                       13.428571   \n",
              "4                                  5                       12.333333   \n",
              "\n",
              "   Curricular_units_1st_sem_without_evaluations  \\\n",
              "0                                             0   \n",
              "1                                             0   \n",
              "2                                             0   \n",
              "3                                             0   \n",
              "4                                             0   \n",
              "\n",
              "   Curricular_units_2nd_sem_credited  Curricular_units_2nd_sem_enrolled  \\\n",
              "0                                  0                                  0   \n",
              "1                                  0                                  6   \n",
              "2                                  0                                  6   \n",
              "3                                  0                                  6   \n",
              "4                                  0                                  6   \n",
              "\n",
              "   Curricular_units_2nd_sem_evaluations  Curricular_units_2nd_sem_approved  \\\n",
              "0                                     0                                  0   \n",
              "1                                     6                                  6   \n",
              "2                                     0                                  0   \n",
              "3                                    10                                  5   \n",
              "4                                     6                                  6   \n",
              "\n",
              "   Curricular_units_2nd_sem_grade  \\\n",
              "0                        0.000000   \n",
              "1                       13.666667   \n",
              "2                        0.000000   \n",
              "3                       12.400000   \n",
              "4                       13.000000   \n",
              "\n",
              "   Curricular_units_2nd_sem_without_evaluations  Unemployment_rate  \\\n",
              "0                                             0               10.8   \n",
              "1                                             0               13.9   \n",
              "2                                             0               10.8   \n",
              "3                                             0                9.4   \n",
              "4                                             0               13.9   \n",
              "\n",
              "   Inflation_rate   GDP    Status  \n",
              "0             1.4  1.74   Dropout  \n",
              "1            -0.3  0.79  Graduate  \n",
              "2             1.4  1.74   Dropout  \n",
              "3            -0.8 -3.12  Graduate  \n",
              "4            -0.3  0.79  Graduate  "
            ],
            "text/html": [
              "\n",
              "  <div id=\"df-550e584b-4adb-4fbd-bbf5-2218f4639cb7\" class=\"colab-df-container\">\n",
              "    <div>\n",
              "<style scoped>\n",
              "    .dataframe tbody tr th:only-of-type {\n",
              "        vertical-align: middle;\n",
              "    }\n",
              "\n",
              "    .dataframe tbody tr th {\n",
              "        vertical-align: top;\n",
              "    }\n",
              "\n",
              "    .dataframe thead th {\n",
              "        text-align: right;\n",
              "    }\n",
              "</style>\n",
              "<table border=\"1\" class=\"dataframe\">\n",
              "  <thead>\n",
              "    <tr style=\"text-align: right;\">\n",
              "      <th></th>\n",
              "      <th>Marital_status</th>\n",
              "      <th>Application_mode</th>\n",
              "      <th>Application_order</th>\n",
              "      <th>Course</th>\n",
              "      <th>Daytime_evening_attendance</th>\n",
              "      <th>Previous_qualification</th>\n",
              "      <th>Previous_qualification_grade</th>\n",
              "      <th>Nacionality</th>\n",
              "      <th>Mothers_qualification</th>\n",
              "      <th>Fathers_qualification</th>\n",
              "      <th>Mothers_occupation</th>\n",
              "      <th>Fathers_occupation</th>\n",
              "      <th>Admission_grade</th>\n",
              "      <th>Displaced</th>\n",
              "      <th>Educational_special_needs</th>\n",
              "      <th>Debtor</th>\n",
              "      <th>Tuition_fees_up_to_date</th>\n",
              "      <th>Gender</th>\n",
              "      <th>Scholarship_holder</th>\n",
              "      <th>Age_at_enrollment</th>\n",
              "      <th>International</th>\n",
              "      <th>Curricular_units_1st_sem_credited</th>\n",
              "      <th>Curricular_units_1st_sem_enrolled</th>\n",
              "      <th>Curricular_units_1st_sem_evaluations</th>\n",
              "      <th>Curricular_units_1st_sem_approved</th>\n",
              "      <th>Curricular_units_1st_sem_grade</th>\n",
              "      <th>Curricular_units_1st_sem_without_evaluations</th>\n",
              "      <th>Curricular_units_2nd_sem_credited</th>\n",
              "      <th>Curricular_units_2nd_sem_enrolled</th>\n",
              "      <th>Curricular_units_2nd_sem_evaluations</th>\n",
              "      <th>Curricular_units_2nd_sem_approved</th>\n",
              "      <th>Curricular_units_2nd_sem_grade</th>\n",
              "      <th>Curricular_units_2nd_sem_without_evaluations</th>\n",
              "      <th>Unemployment_rate</th>\n",
              "      <th>Inflation_rate</th>\n",
              "      <th>GDP</th>\n",
              "      <th>Status</th>\n",
              "    </tr>\n",
              "  </thead>\n",
              "  <tbody>\n",
              "    <tr>\n",
              "      <th>0</th>\n",
              "      <td>1</td>\n",
              "      <td>17</td>\n",
              "      <td>5</td>\n",
              "      <td>171</td>\n",
              "      <td>1</td>\n",
              "      <td>1</td>\n",
              "      <td>122.0</td>\n",
              "      <td>1</td>\n",
              "      <td>19</td>\n",
              "      <td>12</td>\n",
              "      <td>5</td>\n",
              "      <td>9</td>\n",
              "      <td>127.3</td>\n",
              "      <td>1</td>\n",
              "      <td>0</td>\n",
              "      <td>0</td>\n",
              "      <td>1</td>\n",
              "      <td>1</td>\n",
              "      <td>0</td>\n",
              "      <td>20</td>\n",
              "      <td>0</td>\n",
              "      <td>0</td>\n",
              "      <td>0</td>\n",
              "      <td>0</td>\n",
              "      <td>0</td>\n",
              "      <td>0.000000</td>\n",
              "      <td>0</td>\n",
              "      <td>0</td>\n",
              "      <td>0</td>\n",
              "      <td>0</td>\n",
              "      <td>0</td>\n",
              "      <td>0.000000</td>\n",
              "      <td>0</td>\n",
              "      <td>10.8</td>\n",
              "      <td>1.4</td>\n",
              "      <td>1.74</td>\n",
              "      <td>Dropout</td>\n",
              "    </tr>\n",
              "    <tr>\n",
              "      <th>1</th>\n",
              "      <td>1</td>\n",
              "      <td>15</td>\n",
              "      <td>1</td>\n",
              "      <td>9254</td>\n",
              "      <td>1</td>\n",
              "      <td>1</td>\n",
              "      <td>160.0</td>\n",
              "      <td>1</td>\n",
              "      <td>1</td>\n",
              "      <td>3</td>\n",
              "      <td>3</td>\n",
              "      <td>3</td>\n",
              "      <td>142.5</td>\n",
              "      <td>1</td>\n",
              "      <td>0</td>\n",
              "      <td>0</td>\n",
              "      <td>0</td>\n",
              "      <td>1</td>\n",
              "      <td>0</td>\n",
              "      <td>19</td>\n",
              "      <td>0</td>\n",
              "      <td>0</td>\n",
              "      <td>6</td>\n",
              "      <td>6</td>\n",
              "      <td>6</td>\n",
              "      <td>14.000000</td>\n",
              "      <td>0</td>\n",
              "      <td>0</td>\n",
              "      <td>6</td>\n",
              "      <td>6</td>\n",
              "      <td>6</td>\n",
              "      <td>13.666667</td>\n",
              "      <td>0</td>\n",
              "      <td>13.9</td>\n",
              "      <td>-0.3</td>\n",
              "      <td>0.79</td>\n",
              "      <td>Graduate</td>\n",
              "    </tr>\n",
              "    <tr>\n",
              "      <th>2</th>\n",
              "      <td>1</td>\n",
              "      <td>1</td>\n",
              "      <td>5</td>\n",
              "      <td>9070</td>\n",
              "      <td>1</td>\n",
              "      <td>1</td>\n",
              "      <td>122.0</td>\n",
              "      <td>1</td>\n",
              "      <td>37</td>\n",
              "      <td>37</td>\n",
              "      <td>9</td>\n",
              "      <td>9</td>\n",
              "      <td>124.8</td>\n",
              "      <td>1</td>\n",
              "      <td>0</td>\n",
              "      <td>0</td>\n",
              "      <td>0</td>\n",
              "      <td>1</td>\n",
              "      <td>0</td>\n",
              "      <td>19</td>\n",
              "      <td>0</td>\n",
              "      <td>0</td>\n",
              "      <td>6</td>\n",
              "      <td>0</td>\n",
              "      <td>0</td>\n",
              "      <td>0.000000</td>\n",
              "      <td>0</td>\n",
              "      <td>0</td>\n",
              "      <td>6</td>\n",
              "      <td>0</td>\n",
              "      <td>0</td>\n",
              "      <td>0.000000</td>\n",
              "      <td>0</td>\n",
              "      <td>10.8</td>\n",
              "      <td>1.4</td>\n",
              "      <td>1.74</td>\n",
              "      <td>Dropout</td>\n",
              "    </tr>\n",
              "    <tr>\n",
              "      <th>3</th>\n",
              "      <td>1</td>\n",
              "      <td>17</td>\n",
              "      <td>2</td>\n",
              "      <td>9773</td>\n",
              "      <td>1</td>\n",
              "      <td>1</td>\n",
              "      <td>122.0</td>\n",
              "      <td>1</td>\n",
              "      <td>38</td>\n",
              "      <td>37</td>\n",
              "      <td>5</td>\n",
              "      <td>3</td>\n",
              "      <td>119.6</td>\n",
              "      <td>1</td>\n",
              "      <td>0</td>\n",
              "      <td>0</td>\n",
              "      <td>1</td>\n",
              "      <td>0</td>\n",
              "      <td>0</td>\n",
              "      <td>20</td>\n",
              "      <td>0</td>\n",
              "      <td>0</td>\n",
              "      <td>6</td>\n",
              "      <td>8</td>\n",
              "      <td>6</td>\n",
              "      <td>13.428571</td>\n",
              "      <td>0</td>\n",
              "      <td>0</td>\n",
              "      <td>6</td>\n",
              "      <td>10</td>\n",
              "      <td>5</td>\n",
              "      <td>12.400000</td>\n",
              "      <td>0</td>\n",
              "      <td>9.4</td>\n",
              "      <td>-0.8</td>\n",
              "      <td>-3.12</td>\n",
              "      <td>Graduate</td>\n",
              "    </tr>\n",
              "    <tr>\n",
              "      <th>4</th>\n",
              "      <td>2</td>\n",
              "      <td>39</td>\n",
              "      <td>1</td>\n",
              "      <td>8014</td>\n",
              "      <td>0</td>\n",
              "      <td>1</td>\n",
              "      <td>100.0</td>\n",
              "      <td>1</td>\n",
              "      <td>37</td>\n",
              "      <td>38</td>\n",
              "      <td>9</td>\n",
              "      <td>9</td>\n",
              "      <td>141.5</td>\n",
              "      <td>0</td>\n",
              "      <td>0</td>\n",
              "      <td>0</td>\n",
              "      <td>1</td>\n",
              "      <td>0</td>\n",
              "      <td>0</td>\n",
              "      <td>45</td>\n",
              "      <td>0</td>\n",
              "      <td>0</td>\n",
              "      <td>6</td>\n",
              "      <td>9</td>\n",
              "      <td>5</td>\n",
              "      <td>12.333333</td>\n",
              "      <td>0</td>\n",
              "      <td>0</td>\n",
              "      <td>6</td>\n",
              "      <td>6</td>\n",
              "      <td>6</td>\n",
              "      <td>13.000000</td>\n",
              "      <td>0</td>\n",
              "      <td>13.9</td>\n",
              "      <td>-0.3</td>\n",
              "      <td>0.79</td>\n",
              "      <td>Graduate</td>\n",
              "    </tr>\n",
              "  </tbody>\n",
              "</table>\n",
              "</div>\n",
              "    <div class=\"colab-df-buttons\">\n",
              "\n",
              "  <div class=\"colab-df-container\">\n",
              "    <button class=\"colab-df-convert\" onclick=\"convertToInteractive('df-550e584b-4adb-4fbd-bbf5-2218f4639cb7')\"\n",
              "            title=\"Convert this dataframe to an interactive table.\"\n",
              "            style=\"display:none;\">\n",
              "\n",
              "  <svg xmlns=\"http://www.w3.org/2000/svg\" height=\"24px\" viewBox=\"0 -960 960 960\">\n",
              "    <path d=\"M120-120v-720h720v720H120Zm60-500h600v-160H180v160Zm220 220h160v-160H400v160Zm0 220h160v-160H400v160ZM180-400h160v-160H180v160Zm440 0h160v-160H620v160ZM180-180h160v-160H180v160Zm440 0h160v-160H620v160Z\"/>\n",
              "  </svg>\n",
              "    </button>\n",
              "\n",
              "  <style>\n",
              "    .colab-df-container {\n",
              "      display:flex;\n",
              "      gap: 12px;\n",
              "    }\n",
              "\n",
              "    .colab-df-convert {\n",
              "      background-color: #E8F0FE;\n",
              "      border: none;\n",
              "      border-radius: 50%;\n",
              "      cursor: pointer;\n",
              "      display: none;\n",
              "      fill: #1967D2;\n",
              "      height: 32px;\n",
              "      padding: 0 0 0 0;\n",
              "      width: 32px;\n",
              "    }\n",
              "\n",
              "    .colab-df-convert:hover {\n",
              "      background-color: #E2EBFA;\n",
              "      box-shadow: 0px 1px 2px rgba(60, 64, 67, 0.3), 0px 1px 3px 1px rgba(60, 64, 67, 0.15);\n",
              "      fill: #174EA6;\n",
              "    }\n",
              "\n",
              "    .colab-df-buttons div {\n",
              "      margin-bottom: 4px;\n",
              "    }\n",
              "\n",
              "    [theme=dark] .colab-df-convert {\n",
              "      background-color: #3B4455;\n",
              "      fill: #D2E3FC;\n",
              "    }\n",
              "\n",
              "    [theme=dark] .colab-df-convert:hover {\n",
              "      background-color: #434B5C;\n",
              "      box-shadow: 0px 1px 3px 1px rgba(0, 0, 0, 0.15);\n",
              "      filter: drop-shadow(0px 1px 2px rgba(0, 0, 0, 0.3));\n",
              "      fill: #FFFFFF;\n",
              "    }\n",
              "  </style>\n",
              "\n",
              "    <script>\n",
              "      const buttonEl =\n",
              "        document.querySelector('#df-550e584b-4adb-4fbd-bbf5-2218f4639cb7 button.colab-df-convert');\n",
              "      buttonEl.style.display =\n",
              "        google.colab.kernel.accessAllowed ? 'block' : 'none';\n",
              "\n",
              "      async function convertToInteractive(key) {\n",
              "        const element = document.querySelector('#df-550e584b-4adb-4fbd-bbf5-2218f4639cb7');\n",
              "        const dataTable =\n",
              "          await google.colab.kernel.invokeFunction('convertToInteractive',\n",
              "                                                    [key], {});\n",
              "        if (!dataTable) return;\n",
              "\n",
              "        const docLinkHtml = 'Like what you see? Visit the ' +\n",
              "          '<a target=\"_blank\" href=https://colab.research.google.com/notebooks/data_table.ipynb>data table notebook</a>'\n",
              "          + ' to learn more about interactive tables.';\n",
              "        element.innerHTML = '';\n",
              "        dataTable['output_type'] = 'display_data';\n",
              "        await google.colab.output.renderOutput(dataTable, element);\n",
              "        const docLink = document.createElement('div');\n",
              "        docLink.innerHTML = docLinkHtml;\n",
              "        element.appendChild(docLink);\n",
              "      }\n",
              "    </script>\n",
              "  </div>\n",
              "\n",
              "\n",
              "<div id=\"df-3e78f183-772f-44ed-957c-b5101a298fd2\">\n",
              "  <button class=\"colab-df-quickchart\" onclick=\"quickchart('df-3e78f183-772f-44ed-957c-b5101a298fd2')\"\n",
              "            title=\"Suggest charts\"\n",
              "            style=\"display:none;\">\n",
              "\n",
              "<svg xmlns=\"http://www.w3.org/2000/svg\" height=\"24px\"viewBox=\"0 0 24 24\"\n",
              "     width=\"24px\">\n",
              "    <g>\n",
              "        <path d=\"M19 3H5c-1.1 0-2 .9-2 2v14c0 1.1.9 2 2 2h14c1.1 0 2-.9 2-2V5c0-1.1-.9-2-2-2zM9 17H7v-7h2v7zm4 0h-2V7h2v10zm4 0h-2v-4h2v4z\"/>\n",
              "    </g>\n",
              "</svg>\n",
              "  </button>\n",
              "\n",
              "<style>\n",
              "  .colab-df-quickchart {\n",
              "      --bg-color: #E8F0FE;\n",
              "      --fill-color: #1967D2;\n",
              "      --hover-bg-color: #E2EBFA;\n",
              "      --hover-fill-color: #174EA6;\n",
              "      --disabled-fill-color: #AAA;\n",
              "      --disabled-bg-color: #DDD;\n",
              "  }\n",
              "\n",
              "  [theme=dark] .colab-df-quickchart {\n",
              "      --bg-color: #3B4455;\n",
              "      --fill-color: #D2E3FC;\n",
              "      --hover-bg-color: #434B5C;\n",
              "      --hover-fill-color: #FFFFFF;\n",
              "      --disabled-bg-color: #3B4455;\n",
              "      --disabled-fill-color: #666;\n",
              "  }\n",
              "\n",
              "  .colab-df-quickchart {\n",
              "    background-color: var(--bg-color);\n",
              "    border: none;\n",
              "    border-radius: 50%;\n",
              "    cursor: pointer;\n",
              "    display: none;\n",
              "    fill: var(--fill-color);\n",
              "    height: 32px;\n",
              "    padding: 0;\n",
              "    width: 32px;\n",
              "  }\n",
              "\n",
              "  .colab-df-quickchart:hover {\n",
              "    background-color: var(--hover-bg-color);\n",
              "    box-shadow: 0 1px 2px rgba(60, 64, 67, 0.3), 0 1px 3px 1px rgba(60, 64, 67, 0.15);\n",
              "    fill: var(--button-hover-fill-color);\n",
              "  }\n",
              "\n",
              "  .colab-df-quickchart-complete:disabled,\n",
              "  .colab-df-quickchart-complete:disabled:hover {\n",
              "    background-color: var(--disabled-bg-color);\n",
              "    fill: var(--disabled-fill-color);\n",
              "    box-shadow: none;\n",
              "  }\n",
              "\n",
              "  .colab-df-spinner {\n",
              "    border: 2px solid var(--fill-color);\n",
              "    border-color: transparent;\n",
              "    border-bottom-color: var(--fill-color);\n",
              "    animation:\n",
              "      spin 1s steps(1) infinite;\n",
              "  }\n",
              "\n",
              "  @keyframes spin {\n",
              "    0% {\n",
              "      border-color: transparent;\n",
              "      border-bottom-color: var(--fill-color);\n",
              "      border-left-color: var(--fill-color);\n",
              "    }\n",
              "    20% {\n",
              "      border-color: transparent;\n",
              "      border-left-color: var(--fill-color);\n",
              "      border-top-color: var(--fill-color);\n",
              "    }\n",
              "    30% {\n",
              "      border-color: transparent;\n",
              "      border-left-color: var(--fill-color);\n",
              "      border-top-color: var(--fill-color);\n",
              "      border-right-color: var(--fill-color);\n",
              "    }\n",
              "    40% {\n",
              "      border-color: transparent;\n",
              "      border-right-color: var(--fill-color);\n",
              "      border-top-color: var(--fill-color);\n",
              "    }\n",
              "    60% {\n",
              "      border-color: transparent;\n",
              "      border-right-color: var(--fill-color);\n",
              "    }\n",
              "    80% {\n",
              "      border-color: transparent;\n",
              "      border-right-color: var(--fill-color);\n",
              "      border-bottom-color: var(--fill-color);\n",
              "    }\n",
              "    90% {\n",
              "      border-color: transparent;\n",
              "      border-bottom-color: var(--fill-color);\n",
              "    }\n",
              "  }\n",
              "</style>\n",
              "\n",
              "  <script>\n",
              "    async function quickchart(key) {\n",
              "      const quickchartButtonEl =\n",
              "        document.querySelector('#' + key + ' button');\n",
              "      quickchartButtonEl.disabled = true;  // To prevent multiple clicks.\n",
              "      quickchartButtonEl.classList.add('colab-df-spinner');\n",
              "      try {\n",
              "        const charts = await google.colab.kernel.invokeFunction(\n",
              "            'suggestCharts', [key], {});\n",
              "      } catch (error) {\n",
              "        console.error('Error during call to suggestCharts:', error);\n",
              "      }\n",
              "      quickchartButtonEl.classList.remove('colab-df-spinner');\n",
              "      quickchartButtonEl.classList.add('colab-df-quickchart-complete');\n",
              "    }\n",
              "    (() => {\n",
              "      let quickchartButtonEl =\n",
              "        document.querySelector('#df-3e78f183-772f-44ed-957c-b5101a298fd2 button');\n",
              "      quickchartButtonEl.style.display =\n",
              "        google.colab.kernel.accessAllowed ? 'block' : 'none';\n",
              "    })();\n",
              "  </script>\n",
              "</div>\n",
              "    </div>\n",
              "  </div>\n"
            ],
            "application/vnd.google.colaboratory.intrinsic+json": {
              "type": "dataframe",
              "variable_name": "df"
            }
          },
          "metadata": {},
          "execution_count": 7
        }
      ],
      "source": [
        "df.head()"
      ]
    },
    {
      "cell_type": "markdown",
      "metadata": {
        "id": "KA6XN7AkCP9L"
      },
      "source": [
        "## General information of columns and data from the dataset"
      ]
    },
    {
      "cell_type": "code",
      "execution_count": 8,
      "metadata": {
        "colab": {
          "base_uri": "https://localhost:8080/"
        },
        "id": "HNAX_0EiCP9L",
        "outputId": "f3b353c1-ee1b-4671-bc86-853e3b787fcf"
      },
      "outputs": [
        {
          "output_type": "stream",
          "name": "stdout",
          "text": [
            "<class 'pandas.core.frame.DataFrame'>\n",
            "RangeIndex: 4424 entries, 0 to 4423\n",
            "Data columns (total 37 columns):\n",
            " #   Column                                        Non-Null Count  Dtype  \n",
            "---  ------                                        --------------  -----  \n",
            " 0   Marital_status                                4424 non-null   int64  \n",
            " 1   Application_mode                              4424 non-null   int64  \n",
            " 2   Application_order                             4424 non-null   int64  \n",
            " 3   Course                                        4424 non-null   int64  \n",
            " 4   Daytime_evening_attendance                    4424 non-null   int64  \n",
            " 5   Previous_qualification                        4424 non-null   int64  \n",
            " 6   Previous_qualification_grade                  4424 non-null   float64\n",
            " 7   Nacionality                                   4424 non-null   int64  \n",
            " 8   Mothers_qualification                         4424 non-null   int64  \n",
            " 9   Fathers_qualification                         4424 non-null   int64  \n",
            " 10  Mothers_occupation                            4424 non-null   int64  \n",
            " 11  Fathers_occupation                            4424 non-null   int64  \n",
            " 12  Admission_grade                               4424 non-null   float64\n",
            " 13  Displaced                                     4424 non-null   int64  \n",
            " 14  Educational_special_needs                     4424 non-null   int64  \n",
            " 15  Debtor                                        4424 non-null   int64  \n",
            " 16  Tuition_fees_up_to_date                       4424 non-null   int64  \n",
            " 17  Gender                                        4424 non-null   int64  \n",
            " 18  Scholarship_holder                            4424 non-null   int64  \n",
            " 19  Age_at_enrollment                             4424 non-null   int64  \n",
            " 20  International                                 4424 non-null   int64  \n",
            " 21  Curricular_units_1st_sem_credited             4424 non-null   int64  \n",
            " 22  Curricular_units_1st_sem_enrolled             4424 non-null   int64  \n",
            " 23  Curricular_units_1st_sem_evaluations          4424 non-null   int64  \n",
            " 24  Curricular_units_1st_sem_approved             4424 non-null   int64  \n",
            " 25  Curricular_units_1st_sem_grade                4424 non-null   float64\n",
            " 26  Curricular_units_1st_sem_without_evaluations  4424 non-null   int64  \n",
            " 27  Curricular_units_2nd_sem_credited             4424 non-null   int64  \n",
            " 28  Curricular_units_2nd_sem_enrolled             4424 non-null   int64  \n",
            " 29  Curricular_units_2nd_sem_evaluations          4424 non-null   int64  \n",
            " 30  Curricular_units_2nd_sem_approved             4424 non-null   int64  \n",
            " 31  Curricular_units_2nd_sem_grade                4424 non-null   float64\n",
            " 32  Curricular_units_2nd_sem_without_evaluations  4424 non-null   int64  \n",
            " 33  Unemployment_rate                             4424 non-null   float64\n",
            " 34  Inflation_rate                                4424 non-null   float64\n",
            " 35  GDP                                           4424 non-null   float64\n",
            " 36  Status                                        4424 non-null   object \n",
            "dtypes: float64(7), int64(29), object(1)\n",
            "memory usage: 1.2+ MB\n"
          ]
        }
      ],
      "source": [
        "df.info()"
      ]
    },
    {
      "cell_type": "markdown",
      "metadata": {
        "id": "x84ajDcHCP9M"
      },
      "source": [
        "## Mengecek distribusi nilai pada setiap fitur"
      ]
    },
    {
      "cell_type": "code",
      "execution_count": 9,
      "metadata": {
        "colab": {
          "base_uri": "https://localhost:8080/",
          "height": 320
        },
        "id": "Z6yZtagcCP9M",
        "outputId": "99c72528-844c-4d57-f9d2-ff96aad49393"
      },
      "outputs": [
        {
          "output_type": "execute_result",
          "data": {
            "text/plain": [
              "       Marital_status  Application_mode  Application_order       Course  \\\n",
              "count     4424.000000       4424.000000        4424.000000  4424.000000   \n",
              "mean         1.178571         18.669078           1.727848  8856.642631   \n",
              "std          0.605747         17.484682           1.313793  2063.566416   \n",
              "min          1.000000          1.000000           0.000000    33.000000   \n",
              "25%          1.000000          1.000000           1.000000  9085.000000   \n",
              "50%          1.000000         17.000000           1.000000  9238.000000   \n",
              "75%          1.000000         39.000000           2.000000  9556.000000   \n",
              "max          6.000000         57.000000           9.000000  9991.000000   \n",
              "\n",
              "       Daytime_evening_attendance  Previous_qualification  \\\n",
              "count                 4424.000000             4424.000000   \n",
              "mean                     0.890823                4.577758   \n",
              "std                      0.311897               10.216592   \n",
              "min                      0.000000                1.000000   \n",
              "25%                      1.000000                1.000000   \n",
              "50%                      1.000000                1.000000   \n",
              "75%                      1.000000                1.000000   \n",
              "max                      1.000000               43.000000   \n",
              "\n",
              "       Previous_qualification_grade  Nacionality  Mothers_qualification  \\\n",
              "count                   4424.000000  4424.000000            4424.000000   \n",
              "mean                     132.613314     1.873192              19.561935   \n",
              "std                       13.188332     6.914514              15.603186   \n",
              "min                       95.000000     1.000000               1.000000   \n",
              "25%                      125.000000     1.000000               2.000000   \n",
              "50%                      133.100000     1.000000              19.000000   \n",
              "75%                      140.000000     1.000000              37.000000   \n",
              "max                      190.000000   109.000000              44.000000   \n",
              "\n",
              "       Fathers_qualification  Mothers_occupation  Fathers_occupation  \\\n",
              "count            4424.000000         4424.000000         4424.000000   \n",
              "mean               22.275316           10.960895           11.032324   \n",
              "std                15.343108           26.418253           25.263040   \n",
              "min                 1.000000            0.000000            0.000000   \n",
              "25%                 3.000000            4.000000            4.000000   \n",
              "50%                19.000000            5.000000            7.000000   \n",
              "75%                37.000000            9.000000            9.000000   \n",
              "max                44.000000          194.000000          195.000000   \n",
              "\n",
              "       Admission_grade    Displaced  Educational_special_needs       Debtor  \\\n",
              "count      4424.000000  4424.000000                4424.000000  4424.000000   \n",
              "mean        126.978119     0.548373                   0.011528     0.113698   \n",
              "std          14.482001     0.497711                   0.106760     0.317480   \n",
              "min          95.000000     0.000000                   0.000000     0.000000   \n",
              "25%         117.900000     0.000000                   0.000000     0.000000   \n",
              "50%         126.100000     1.000000                   0.000000     0.000000   \n",
              "75%         134.800000     1.000000                   0.000000     0.000000   \n",
              "max         190.000000     1.000000                   1.000000     1.000000   \n",
              "\n",
              "       Tuition_fees_up_to_date       Gender  Scholarship_holder  \\\n",
              "count              4424.000000  4424.000000         4424.000000   \n",
              "mean                  0.880651     0.351718            0.248418   \n",
              "std                   0.324235     0.477560            0.432144   \n",
              "min                   0.000000     0.000000            0.000000   \n",
              "25%                   1.000000     0.000000            0.000000   \n",
              "50%                   1.000000     0.000000            0.000000   \n",
              "75%                   1.000000     1.000000            0.000000   \n",
              "max                   1.000000     1.000000            1.000000   \n",
              "\n",
              "       Age_at_enrollment  International  Curricular_units_1st_sem_credited  \\\n",
              "count        4424.000000    4424.000000                        4424.000000   \n",
              "mean           23.265145       0.024864                           0.709991   \n",
              "std             7.587816       0.155729                           2.360507   \n",
              "min            17.000000       0.000000                           0.000000   \n",
              "25%            19.000000       0.000000                           0.000000   \n",
              "50%            20.000000       0.000000                           0.000000   \n",
              "75%            25.000000       0.000000                           0.000000   \n",
              "max            70.000000       1.000000                          20.000000   \n",
              "\n",
              "       Curricular_units_1st_sem_enrolled  \\\n",
              "count                        4424.000000   \n",
              "mean                            6.270570   \n",
              "std                             2.480178   \n",
              "min                             0.000000   \n",
              "25%                             5.000000   \n",
              "50%                             6.000000   \n",
              "75%                             7.000000   \n",
              "max                            26.000000   \n",
              "\n",
              "       Curricular_units_1st_sem_evaluations  \\\n",
              "count                           4424.000000   \n",
              "mean                               8.299051   \n",
              "std                                4.179106   \n",
              "min                                0.000000   \n",
              "25%                                6.000000   \n",
              "50%                                8.000000   \n",
              "75%                               10.000000   \n",
              "max                               45.000000   \n",
              "\n",
              "       Curricular_units_1st_sem_approved  Curricular_units_1st_sem_grade  \\\n",
              "count                        4424.000000                     4424.000000   \n",
              "mean                            4.706600                       10.640822   \n",
              "std                             3.094238                        4.843663   \n",
              "min                             0.000000                        0.000000   \n",
              "25%                             3.000000                       11.000000   \n",
              "50%                             5.000000                       12.285714   \n",
              "75%                             6.000000                       13.400000   \n",
              "max                            26.000000                       18.875000   \n",
              "\n",
              "       Curricular_units_1st_sem_without_evaluations  \\\n",
              "count                                   4424.000000   \n",
              "mean                                       0.137658   \n",
              "std                                        0.690880   \n",
              "min                                        0.000000   \n",
              "25%                                        0.000000   \n",
              "50%                                        0.000000   \n",
              "75%                                        0.000000   \n",
              "max                                       12.000000   \n",
              "\n",
              "       Curricular_units_2nd_sem_credited  Curricular_units_2nd_sem_enrolled  \\\n",
              "count                        4424.000000                        4424.000000   \n",
              "mean                            0.541817                           6.232143   \n",
              "std                             1.918546                           2.195951   \n",
              "min                             0.000000                           0.000000   \n",
              "25%                             0.000000                           5.000000   \n",
              "50%                             0.000000                           6.000000   \n",
              "75%                             0.000000                           7.000000   \n",
              "max                            19.000000                          23.000000   \n",
              "\n",
              "       Curricular_units_2nd_sem_evaluations  \\\n",
              "count                           4424.000000   \n",
              "mean                               8.063291   \n",
              "std                                3.947951   \n",
              "min                                0.000000   \n",
              "25%                                6.000000   \n",
              "50%                                8.000000   \n",
              "75%                               10.000000   \n",
              "max                               33.000000   \n",
              "\n",
              "       Curricular_units_2nd_sem_approved  Curricular_units_2nd_sem_grade  \\\n",
              "count                        4424.000000                     4424.000000   \n",
              "mean                            4.435805                       10.230206   \n",
              "std                             3.014764                        5.210808   \n",
              "min                             0.000000                        0.000000   \n",
              "25%                             2.000000                       10.750000   \n",
              "50%                             5.000000                       12.200000   \n",
              "75%                             6.000000                       13.333333   \n",
              "max                            20.000000                       18.571429   \n",
              "\n",
              "       Curricular_units_2nd_sem_without_evaluations  Unemployment_rate  \\\n",
              "count                                   4424.000000        4424.000000   \n",
              "mean                                       0.150316          11.566139   \n",
              "std                                        0.753774           2.663850   \n",
              "min                                        0.000000           7.600000   \n",
              "25%                                        0.000000           9.400000   \n",
              "50%                                        0.000000          11.100000   \n",
              "75%                                        0.000000          13.900000   \n",
              "max                                       12.000000          16.200000   \n",
              "\n",
              "       Inflation_rate          GDP  \n",
              "count     4424.000000  4424.000000  \n",
              "mean         1.228029     0.001969  \n",
              "std          1.382711     2.269935  \n",
              "min         -0.800000    -4.060000  \n",
              "25%          0.300000    -1.700000  \n",
              "50%          1.400000     0.320000  \n",
              "75%          2.600000     1.790000  \n",
              "max          3.700000     3.510000  "
            ],
            "text/html": [
              "\n",
              "  <div id=\"df-fa45d3f2-9cb8-449a-9666-abb89ba56058\" class=\"colab-df-container\">\n",
              "    <div>\n",
              "<style scoped>\n",
              "    .dataframe tbody tr th:only-of-type {\n",
              "        vertical-align: middle;\n",
              "    }\n",
              "\n",
              "    .dataframe tbody tr th {\n",
              "        vertical-align: top;\n",
              "    }\n",
              "\n",
              "    .dataframe thead th {\n",
              "        text-align: right;\n",
              "    }\n",
              "</style>\n",
              "<table border=\"1\" class=\"dataframe\">\n",
              "  <thead>\n",
              "    <tr style=\"text-align: right;\">\n",
              "      <th></th>\n",
              "      <th>Marital_status</th>\n",
              "      <th>Application_mode</th>\n",
              "      <th>Application_order</th>\n",
              "      <th>Course</th>\n",
              "      <th>Daytime_evening_attendance</th>\n",
              "      <th>Previous_qualification</th>\n",
              "      <th>Previous_qualification_grade</th>\n",
              "      <th>Nacionality</th>\n",
              "      <th>Mothers_qualification</th>\n",
              "      <th>Fathers_qualification</th>\n",
              "      <th>Mothers_occupation</th>\n",
              "      <th>Fathers_occupation</th>\n",
              "      <th>Admission_grade</th>\n",
              "      <th>Displaced</th>\n",
              "      <th>Educational_special_needs</th>\n",
              "      <th>Debtor</th>\n",
              "      <th>Tuition_fees_up_to_date</th>\n",
              "      <th>Gender</th>\n",
              "      <th>Scholarship_holder</th>\n",
              "      <th>Age_at_enrollment</th>\n",
              "      <th>International</th>\n",
              "      <th>Curricular_units_1st_sem_credited</th>\n",
              "      <th>Curricular_units_1st_sem_enrolled</th>\n",
              "      <th>Curricular_units_1st_sem_evaluations</th>\n",
              "      <th>Curricular_units_1st_sem_approved</th>\n",
              "      <th>Curricular_units_1st_sem_grade</th>\n",
              "      <th>Curricular_units_1st_sem_without_evaluations</th>\n",
              "      <th>Curricular_units_2nd_sem_credited</th>\n",
              "      <th>Curricular_units_2nd_sem_enrolled</th>\n",
              "      <th>Curricular_units_2nd_sem_evaluations</th>\n",
              "      <th>Curricular_units_2nd_sem_approved</th>\n",
              "      <th>Curricular_units_2nd_sem_grade</th>\n",
              "      <th>Curricular_units_2nd_sem_without_evaluations</th>\n",
              "      <th>Unemployment_rate</th>\n",
              "      <th>Inflation_rate</th>\n",
              "      <th>GDP</th>\n",
              "    </tr>\n",
              "  </thead>\n",
              "  <tbody>\n",
              "    <tr>\n",
              "      <th>count</th>\n",
              "      <td>4424.000000</td>\n",
              "      <td>4424.000000</td>\n",
              "      <td>4424.000000</td>\n",
              "      <td>4424.000000</td>\n",
              "      <td>4424.000000</td>\n",
              "      <td>4424.000000</td>\n",
              "      <td>4424.000000</td>\n",
              "      <td>4424.000000</td>\n",
              "      <td>4424.000000</td>\n",
              "      <td>4424.000000</td>\n",
              "      <td>4424.000000</td>\n",
              "      <td>4424.000000</td>\n",
              "      <td>4424.000000</td>\n",
              "      <td>4424.000000</td>\n",
              "      <td>4424.000000</td>\n",
              "      <td>4424.000000</td>\n",
              "      <td>4424.000000</td>\n",
              "      <td>4424.000000</td>\n",
              "      <td>4424.000000</td>\n",
              "      <td>4424.000000</td>\n",
              "      <td>4424.000000</td>\n",
              "      <td>4424.000000</td>\n",
              "      <td>4424.000000</td>\n",
              "      <td>4424.000000</td>\n",
              "      <td>4424.000000</td>\n",
              "      <td>4424.000000</td>\n",
              "      <td>4424.000000</td>\n",
              "      <td>4424.000000</td>\n",
              "      <td>4424.000000</td>\n",
              "      <td>4424.000000</td>\n",
              "      <td>4424.000000</td>\n",
              "      <td>4424.000000</td>\n",
              "      <td>4424.000000</td>\n",
              "      <td>4424.000000</td>\n",
              "      <td>4424.000000</td>\n",
              "      <td>4424.000000</td>\n",
              "    </tr>\n",
              "    <tr>\n",
              "      <th>mean</th>\n",
              "      <td>1.178571</td>\n",
              "      <td>18.669078</td>\n",
              "      <td>1.727848</td>\n",
              "      <td>8856.642631</td>\n",
              "      <td>0.890823</td>\n",
              "      <td>4.577758</td>\n",
              "      <td>132.613314</td>\n",
              "      <td>1.873192</td>\n",
              "      <td>19.561935</td>\n",
              "      <td>22.275316</td>\n",
              "      <td>10.960895</td>\n",
              "      <td>11.032324</td>\n",
              "      <td>126.978119</td>\n",
              "      <td>0.548373</td>\n",
              "      <td>0.011528</td>\n",
              "      <td>0.113698</td>\n",
              "      <td>0.880651</td>\n",
              "      <td>0.351718</td>\n",
              "      <td>0.248418</td>\n",
              "      <td>23.265145</td>\n",
              "      <td>0.024864</td>\n",
              "      <td>0.709991</td>\n",
              "      <td>6.270570</td>\n",
              "      <td>8.299051</td>\n",
              "      <td>4.706600</td>\n",
              "      <td>10.640822</td>\n",
              "      <td>0.137658</td>\n",
              "      <td>0.541817</td>\n",
              "      <td>6.232143</td>\n",
              "      <td>8.063291</td>\n",
              "      <td>4.435805</td>\n",
              "      <td>10.230206</td>\n",
              "      <td>0.150316</td>\n",
              "      <td>11.566139</td>\n",
              "      <td>1.228029</td>\n",
              "      <td>0.001969</td>\n",
              "    </tr>\n",
              "    <tr>\n",
              "      <th>std</th>\n",
              "      <td>0.605747</td>\n",
              "      <td>17.484682</td>\n",
              "      <td>1.313793</td>\n",
              "      <td>2063.566416</td>\n",
              "      <td>0.311897</td>\n",
              "      <td>10.216592</td>\n",
              "      <td>13.188332</td>\n",
              "      <td>6.914514</td>\n",
              "      <td>15.603186</td>\n",
              "      <td>15.343108</td>\n",
              "      <td>26.418253</td>\n",
              "      <td>25.263040</td>\n",
              "      <td>14.482001</td>\n",
              "      <td>0.497711</td>\n",
              "      <td>0.106760</td>\n",
              "      <td>0.317480</td>\n",
              "      <td>0.324235</td>\n",
              "      <td>0.477560</td>\n",
              "      <td>0.432144</td>\n",
              "      <td>7.587816</td>\n",
              "      <td>0.155729</td>\n",
              "      <td>2.360507</td>\n",
              "      <td>2.480178</td>\n",
              "      <td>4.179106</td>\n",
              "      <td>3.094238</td>\n",
              "      <td>4.843663</td>\n",
              "      <td>0.690880</td>\n",
              "      <td>1.918546</td>\n",
              "      <td>2.195951</td>\n",
              "      <td>3.947951</td>\n",
              "      <td>3.014764</td>\n",
              "      <td>5.210808</td>\n",
              "      <td>0.753774</td>\n",
              "      <td>2.663850</td>\n",
              "      <td>1.382711</td>\n",
              "      <td>2.269935</td>\n",
              "    </tr>\n",
              "    <tr>\n",
              "      <th>min</th>\n",
              "      <td>1.000000</td>\n",
              "      <td>1.000000</td>\n",
              "      <td>0.000000</td>\n",
              "      <td>33.000000</td>\n",
              "      <td>0.000000</td>\n",
              "      <td>1.000000</td>\n",
              "      <td>95.000000</td>\n",
              "      <td>1.000000</td>\n",
              "      <td>1.000000</td>\n",
              "      <td>1.000000</td>\n",
              "      <td>0.000000</td>\n",
              "      <td>0.000000</td>\n",
              "      <td>95.000000</td>\n",
              "      <td>0.000000</td>\n",
              "      <td>0.000000</td>\n",
              "      <td>0.000000</td>\n",
              "      <td>0.000000</td>\n",
              "      <td>0.000000</td>\n",
              "      <td>0.000000</td>\n",
              "      <td>17.000000</td>\n",
              "      <td>0.000000</td>\n",
              "      <td>0.000000</td>\n",
              "      <td>0.000000</td>\n",
              "      <td>0.000000</td>\n",
              "      <td>0.000000</td>\n",
              "      <td>0.000000</td>\n",
              "      <td>0.000000</td>\n",
              "      <td>0.000000</td>\n",
              "      <td>0.000000</td>\n",
              "      <td>0.000000</td>\n",
              "      <td>0.000000</td>\n",
              "      <td>0.000000</td>\n",
              "      <td>0.000000</td>\n",
              "      <td>7.600000</td>\n",
              "      <td>-0.800000</td>\n",
              "      <td>-4.060000</td>\n",
              "    </tr>\n",
              "    <tr>\n",
              "      <th>25%</th>\n",
              "      <td>1.000000</td>\n",
              "      <td>1.000000</td>\n",
              "      <td>1.000000</td>\n",
              "      <td>9085.000000</td>\n",
              "      <td>1.000000</td>\n",
              "      <td>1.000000</td>\n",
              "      <td>125.000000</td>\n",
              "      <td>1.000000</td>\n",
              "      <td>2.000000</td>\n",
              "      <td>3.000000</td>\n",
              "      <td>4.000000</td>\n",
              "      <td>4.000000</td>\n",
              "      <td>117.900000</td>\n",
              "      <td>0.000000</td>\n",
              "      <td>0.000000</td>\n",
              "      <td>0.000000</td>\n",
              "      <td>1.000000</td>\n",
              "      <td>0.000000</td>\n",
              "      <td>0.000000</td>\n",
              "      <td>19.000000</td>\n",
              "      <td>0.000000</td>\n",
              "      <td>0.000000</td>\n",
              "      <td>5.000000</td>\n",
              "      <td>6.000000</td>\n",
              "      <td>3.000000</td>\n",
              "      <td>11.000000</td>\n",
              "      <td>0.000000</td>\n",
              "      <td>0.000000</td>\n",
              "      <td>5.000000</td>\n",
              "      <td>6.000000</td>\n",
              "      <td>2.000000</td>\n",
              "      <td>10.750000</td>\n",
              "      <td>0.000000</td>\n",
              "      <td>9.400000</td>\n",
              "      <td>0.300000</td>\n",
              "      <td>-1.700000</td>\n",
              "    </tr>\n",
              "    <tr>\n",
              "      <th>50%</th>\n",
              "      <td>1.000000</td>\n",
              "      <td>17.000000</td>\n",
              "      <td>1.000000</td>\n",
              "      <td>9238.000000</td>\n",
              "      <td>1.000000</td>\n",
              "      <td>1.000000</td>\n",
              "      <td>133.100000</td>\n",
              "      <td>1.000000</td>\n",
              "      <td>19.000000</td>\n",
              "      <td>19.000000</td>\n",
              "      <td>5.000000</td>\n",
              "      <td>7.000000</td>\n",
              "      <td>126.100000</td>\n",
              "      <td>1.000000</td>\n",
              "      <td>0.000000</td>\n",
              "      <td>0.000000</td>\n",
              "      <td>1.000000</td>\n",
              "      <td>0.000000</td>\n",
              "      <td>0.000000</td>\n",
              "      <td>20.000000</td>\n",
              "      <td>0.000000</td>\n",
              "      <td>0.000000</td>\n",
              "      <td>6.000000</td>\n",
              "      <td>8.000000</td>\n",
              "      <td>5.000000</td>\n",
              "      <td>12.285714</td>\n",
              "      <td>0.000000</td>\n",
              "      <td>0.000000</td>\n",
              "      <td>6.000000</td>\n",
              "      <td>8.000000</td>\n",
              "      <td>5.000000</td>\n",
              "      <td>12.200000</td>\n",
              "      <td>0.000000</td>\n",
              "      <td>11.100000</td>\n",
              "      <td>1.400000</td>\n",
              "      <td>0.320000</td>\n",
              "    </tr>\n",
              "    <tr>\n",
              "      <th>75%</th>\n",
              "      <td>1.000000</td>\n",
              "      <td>39.000000</td>\n",
              "      <td>2.000000</td>\n",
              "      <td>9556.000000</td>\n",
              "      <td>1.000000</td>\n",
              "      <td>1.000000</td>\n",
              "      <td>140.000000</td>\n",
              "      <td>1.000000</td>\n",
              "      <td>37.000000</td>\n",
              "      <td>37.000000</td>\n",
              "      <td>9.000000</td>\n",
              "      <td>9.000000</td>\n",
              "      <td>134.800000</td>\n",
              "      <td>1.000000</td>\n",
              "      <td>0.000000</td>\n",
              "      <td>0.000000</td>\n",
              "      <td>1.000000</td>\n",
              "      <td>1.000000</td>\n",
              "      <td>0.000000</td>\n",
              "      <td>25.000000</td>\n",
              "      <td>0.000000</td>\n",
              "      <td>0.000000</td>\n",
              "      <td>7.000000</td>\n",
              "      <td>10.000000</td>\n",
              "      <td>6.000000</td>\n",
              "      <td>13.400000</td>\n",
              "      <td>0.000000</td>\n",
              "      <td>0.000000</td>\n",
              "      <td>7.000000</td>\n",
              "      <td>10.000000</td>\n",
              "      <td>6.000000</td>\n",
              "      <td>13.333333</td>\n",
              "      <td>0.000000</td>\n",
              "      <td>13.900000</td>\n",
              "      <td>2.600000</td>\n",
              "      <td>1.790000</td>\n",
              "    </tr>\n",
              "    <tr>\n",
              "      <th>max</th>\n",
              "      <td>6.000000</td>\n",
              "      <td>57.000000</td>\n",
              "      <td>9.000000</td>\n",
              "      <td>9991.000000</td>\n",
              "      <td>1.000000</td>\n",
              "      <td>43.000000</td>\n",
              "      <td>190.000000</td>\n",
              "      <td>109.000000</td>\n",
              "      <td>44.000000</td>\n",
              "      <td>44.000000</td>\n",
              "      <td>194.000000</td>\n",
              "      <td>195.000000</td>\n",
              "      <td>190.000000</td>\n",
              "      <td>1.000000</td>\n",
              "      <td>1.000000</td>\n",
              "      <td>1.000000</td>\n",
              "      <td>1.000000</td>\n",
              "      <td>1.000000</td>\n",
              "      <td>1.000000</td>\n",
              "      <td>70.000000</td>\n",
              "      <td>1.000000</td>\n",
              "      <td>20.000000</td>\n",
              "      <td>26.000000</td>\n",
              "      <td>45.000000</td>\n",
              "      <td>26.000000</td>\n",
              "      <td>18.875000</td>\n",
              "      <td>12.000000</td>\n",
              "      <td>19.000000</td>\n",
              "      <td>23.000000</td>\n",
              "      <td>33.000000</td>\n",
              "      <td>20.000000</td>\n",
              "      <td>18.571429</td>\n",
              "      <td>12.000000</td>\n",
              "      <td>16.200000</td>\n",
              "      <td>3.700000</td>\n",
              "      <td>3.510000</td>\n",
              "    </tr>\n",
              "  </tbody>\n",
              "</table>\n",
              "</div>\n",
              "    <div class=\"colab-df-buttons\">\n",
              "\n",
              "  <div class=\"colab-df-container\">\n",
              "    <button class=\"colab-df-convert\" onclick=\"convertToInteractive('df-fa45d3f2-9cb8-449a-9666-abb89ba56058')\"\n",
              "            title=\"Convert this dataframe to an interactive table.\"\n",
              "            style=\"display:none;\">\n",
              "\n",
              "  <svg xmlns=\"http://www.w3.org/2000/svg\" height=\"24px\" viewBox=\"0 -960 960 960\">\n",
              "    <path d=\"M120-120v-720h720v720H120Zm60-500h600v-160H180v160Zm220 220h160v-160H400v160Zm0 220h160v-160H400v160ZM180-400h160v-160H180v160Zm440 0h160v-160H620v160ZM180-180h160v-160H180v160Zm440 0h160v-160H620v160Z\"/>\n",
              "  </svg>\n",
              "    </button>\n",
              "\n",
              "  <style>\n",
              "    .colab-df-container {\n",
              "      display:flex;\n",
              "      gap: 12px;\n",
              "    }\n",
              "\n",
              "    .colab-df-convert {\n",
              "      background-color: #E8F0FE;\n",
              "      border: none;\n",
              "      border-radius: 50%;\n",
              "      cursor: pointer;\n",
              "      display: none;\n",
              "      fill: #1967D2;\n",
              "      height: 32px;\n",
              "      padding: 0 0 0 0;\n",
              "      width: 32px;\n",
              "    }\n",
              "\n",
              "    .colab-df-convert:hover {\n",
              "      background-color: #E2EBFA;\n",
              "      box-shadow: 0px 1px 2px rgba(60, 64, 67, 0.3), 0px 1px 3px 1px rgba(60, 64, 67, 0.15);\n",
              "      fill: #174EA6;\n",
              "    }\n",
              "\n",
              "    .colab-df-buttons div {\n",
              "      margin-bottom: 4px;\n",
              "    }\n",
              "\n",
              "    [theme=dark] .colab-df-convert {\n",
              "      background-color: #3B4455;\n",
              "      fill: #D2E3FC;\n",
              "    }\n",
              "\n",
              "    [theme=dark] .colab-df-convert:hover {\n",
              "      background-color: #434B5C;\n",
              "      box-shadow: 0px 1px 3px 1px rgba(0, 0, 0, 0.15);\n",
              "      filter: drop-shadow(0px 1px 2px rgba(0, 0, 0, 0.3));\n",
              "      fill: #FFFFFF;\n",
              "    }\n",
              "  </style>\n",
              "\n",
              "    <script>\n",
              "      const buttonEl =\n",
              "        document.querySelector('#df-fa45d3f2-9cb8-449a-9666-abb89ba56058 button.colab-df-convert');\n",
              "      buttonEl.style.display =\n",
              "        google.colab.kernel.accessAllowed ? 'block' : 'none';\n",
              "\n",
              "      async function convertToInteractive(key) {\n",
              "        const element = document.querySelector('#df-fa45d3f2-9cb8-449a-9666-abb89ba56058');\n",
              "        const dataTable =\n",
              "          await google.colab.kernel.invokeFunction('convertToInteractive',\n",
              "                                                    [key], {});\n",
              "        if (!dataTable) return;\n",
              "\n",
              "        const docLinkHtml = 'Like what you see? Visit the ' +\n",
              "          '<a target=\"_blank\" href=https://colab.research.google.com/notebooks/data_table.ipynb>data table notebook</a>'\n",
              "          + ' to learn more about interactive tables.';\n",
              "        element.innerHTML = '';\n",
              "        dataTable['output_type'] = 'display_data';\n",
              "        await google.colab.output.renderOutput(dataTable, element);\n",
              "        const docLink = document.createElement('div');\n",
              "        docLink.innerHTML = docLinkHtml;\n",
              "        element.appendChild(docLink);\n",
              "      }\n",
              "    </script>\n",
              "  </div>\n",
              "\n",
              "\n",
              "<div id=\"df-b812c0c5-738f-4229-886e-9b07c0a0555b\">\n",
              "  <button class=\"colab-df-quickchart\" onclick=\"quickchart('df-b812c0c5-738f-4229-886e-9b07c0a0555b')\"\n",
              "            title=\"Suggest charts\"\n",
              "            style=\"display:none;\">\n",
              "\n",
              "<svg xmlns=\"http://www.w3.org/2000/svg\" height=\"24px\"viewBox=\"0 0 24 24\"\n",
              "     width=\"24px\">\n",
              "    <g>\n",
              "        <path d=\"M19 3H5c-1.1 0-2 .9-2 2v14c0 1.1.9 2 2 2h14c1.1 0 2-.9 2-2V5c0-1.1-.9-2-2-2zM9 17H7v-7h2v7zm4 0h-2V7h2v10zm4 0h-2v-4h2v4z\"/>\n",
              "    </g>\n",
              "</svg>\n",
              "  </button>\n",
              "\n",
              "<style>\n",
              "  .colab-df-quickchart {\n",
              "      --bg-color: #E8F0FE;\n",
              "      --fill-color: #1967D2;\n",
              "      --hover-bg-color: #E2EBFA;\n",
              "      --hover-fill-color: #174EA6;\n",
              "      --disabled-fill-color: #AAA;\n",
              "      --disabled-bg-color: #DDD;\n",
              "  }\n",
              "\n",
              "  [theme=dark] .colab-df-quickchart {\n",
              "      --bg-color: #3B4455;\n",
              "      --fill-color: #D2E3FC;\n",
              "      --hover-bg-color: #434B5C;\n",
              "      --hover-fill-color: #FFFFFF;\n",
              "      --disabled-bg-color: #3B4455;\n",
              "      --disabled-fill-color: #666;\n",
              "  }\n",
              "\n",
              "  .colab-df-quickchart {\n",
              "    background-color: var(--bg-color);\n",
              "    border: none;\n",
              "    border-radius: 50%;\n",
              "    cursor: pointer;\n",
              "    display: none;\n",
              "    fill: var(--fill-color);\n",
              "    height: 32px;\n",
              "    padding: 0;\n",
              "    width: 32px;\n",
              "  }\n",
              "\n",
              "  .colab-df-quickchart:hover {\n",
              "    background-color: var(--hover-bg-color);\n",
              "    box-shadow: 0 1px 2px rgba(60, 64, 67, 0.3), 0 1px 3px 1px rgba(60, 64, 67, 0.15);\n",
              "    fill: var(--button-hover-fill-color);\n",
              "  }\n",
              "\n",
              "  .colab-df-quickchart-complete:disabled,\n",
              "  .colab-df-quickchart-complete:disabled:hover {\n",
              "    background-color: var(--disabled-bg-color);\n",
              "    fill: var(--disabled-fill-color);\n",
              "    box-shadow: none;\n",
              "  }\n",
              "\n",
              "  .colab-df-spinner {\n",
              "    border: 2px solid var(--fill-color);\n",
              "    border-color: transparent;\n",
              "    border-bottom-color: var(--fill-color);\n",
              "    animation:\n",
              "      spin 1s steps(1) infinite;\n",
              "  }\n",
              "\n",
              "  @keyframes spin {\n",
              "    0% {\n",
              "      border-color: transparent;\n",
              "      border-bottom-color: var(--fill-color);\n",
              "      border-left-color: var(--fill-color);\n",
              "    }\n",
              "    20% {\n",
              "      border-color: transparent;\n",
              "      border-left-color: var(--fill-color);\n",
              "      border-top-color: var(--fill-color);\n",
              "    }\n",
              "    30% {\n",
              "      border-color: transparent;\n",
              "      border-left-color: var(--fill-color);\n",
              "      border-top-color: var(--fill-color);\n",
              "      border-right-color: var(--fill-color);\n",
              "    }\n",
              "    40% {\n",
              "      border-color: transparent;\n",
              "      border-right-color: var(--fill-color);\n",
              "      border-top-color: var(--fill-color);\n",
              "    }\n",
              "    60% {\n",
              "      border-color: transparent;\n",
              "      border-right-color: var(--fill-color);\n",
              "    }\n",
              "    80% {\n",
              "      border-color: transparent;\n",
              "      border-right-color: var(--fill-color);\n",
              "      border-bottom-color: var(--fill-color);\n",
              "    }\n",
              "    90% {\n",
              "      border-color: transparent;\n",
              "      border-bottom-color: var(--fill-color);\n",
              "    }\n",
              "  }\n",
              "</style>\n",
              "\n",
              "  <script>\n",
              "    async function quickchart(key) {\n",
              "      const quickchartButtonEl =\n",
              "        document.querySelector('#' + key + ' button');\n",
              "      quickchartButtonEl.disabled = true;  // To prevent multiple clicks.\n",
              "      quickchartButtonEl.classList.add('colab-df-spinner');\n",
              "      try {\n",
              "        const charts = await google.colab.kernel.invokeFunction(\n",
              "            'suggestCharts', [key], {});\n",
              "      } catch (error) {\n",
              "        console.error('Error during call to suggestCharts:', error);\n",
              "      }\n",
              "      quickchartButtonEl.classList.remove('colab-df-spinner');\n",
              "      quickchartButtonEl.classList.add('colab-df-quickchart-complete');\n",
              "    }\n",
              "    (() => {\n",
              "      let quickchartButtonEl =\n",
              "        document.querySelector('#df-b812c0c5-738f-4229-886e-9b07c0a0555b button');\n",
              "      quickchartButtonEl.style.display =\n",
              "        google.colab.kernel.accessAllowed ? 'block' : 'none';\n",
              "    })();\n",
              "  </script>\n",
              "</div>\n",
              "    </div>\n",
              "  </div>\n"
            ],
            "application/vnd.google.colaboratory.intrinsic+json": {
              "type": "dataframe"
            }
          },
          "metadata": {},
          "execution_count": 9
        }
      ],
      "source": [
        "df.describe()"
      ]
    },
    {
      "cell_type": "markdown",
      "metadata": {
        "id": "l4Zuzd9ACP9M"
      },
      "source": [
        "## Mengecek distribusi nilai pada label Status"
      ]
    },
    {
      "cell_type": "code",
      "execution_count": 10,
      "metadata": {
        "colab": {
          "base_uri": "https://localhost:8080/"
        },
        "id": "427kaaMmCP9M",
        "outputId": "5a26b6a8-7cb9-485e-8436-055e7a17d387"
      },
      "outputs": [
        {
          "output_type": "execute_result",
          "data": {
            "text/plain": [
              "Status\n",
              "Graduate    2209\n",
              "Dropout     1421\n",
              "Enrolled     794\n",
              "Name: count, dtype: int64"
            ]
          },
          "metadata": {},
          "execution_count": 10
        }
      ],
      "source": [
        "df['Status'].value_counts()"
      ]
    },
    {
      "cell_type": "markdown",
      "metadata": {
        "id": "mJ7zQk_sCP9M"
      },
      "source": [
        "## Visualisasi distribusi fitur utama"
      ]
    },
    {
      "cell_type": "code",
      "execution_count": 11,
      "metadata": {
        "colab": {
          "base_uri": "https://localhost:8080/",
          "height": 472
        },
        "id": "_LAkMm4uCP9M",
        "outputId": "d33641e1-a7a4-42eb-b02b-b819b6ba0b6f"
      },
      "outputs": [
        {
          "output_type": "display_data",
          "data": {
            "text/plain": [
              "<Figure size 640x480 with 1 Axes>"
            ],
            "image/png": "[encoded data removed]"
          },
          "metadata": {}
        }
      ],
      "source": [
        "sns.countplot(x='Status', data=df)\n",
        "plt.title('Distribusi Status')\n",
        "plt.show()"
      ]
    },
    {
      "cell_type": "markdown",
      "metadata": {
        "id": "-EjZo9QACP9M"
      },
      "source": [
        "# **Data Preparation / Preprocessing**"
      ]
    },
    {
      "cell_type": "markdown",
      "metadata": {
        "id": "YJrMcTI0CP9M"
      },
      "source": [
        "## Split Feature and Target Variables"
      ]
    },
    {
      "cell_type": "code",
      "execution_count": 12,
      "metadata": {
        "id": "9sRnH3RiCP9M"
      },
      "outputs": [],
      "source": [
        "X = df.drop('Status', axis=1)\n",
        "y = df['Status']"
      ]
    },
    {
      "cell_type": "markdown",
      "metadata": {
        "id": "Tcy09N8PCP9M"
      },
      "source": [
        "## Splitting data to Training and Test Set"
      ]
    },
    {
      "cell_type": "code",
      "execution_count": 13,
      "metadata": {
        "id": "LDoafC5XCP9M"
      },
      "outputs": [],
      "source": [
        "X_train, X_test, y_train, y_test = train_test_split(X, y, test_size=0.3, random_state=42)"
      ]
    },
    {
      "cell_type": "markdown",
      "metadata": {
        "id": "_j-lulTQCP9N"
      },
      "source": [
        "## Features Standardization"
      ]
    },
    {
      "cell_type": "code",
      "execution_count": 14,
      "metadata": {
        "id": "aWVc9z7yCP9N"
      },
      "outputs": [],
      "source": [
        "scaler = StandardScaler()\n",
        "X_train = scaler.fit_transform(X_train)\n",
        "X_test = scaler.transform(X_test)"
      ]
    },
    {
      "cell_type": "markdown",
      "metadata": {
        "id": "YOgR5LgBCP9N"
      },
      "source": [
        "# **Modeling**"
      ]
    },
    {
      "cell_type": "markdown",
      "metadata": {
        "id": "Bcd72TccCP9N"
      },
      "source": [
        "## Making a RandomForest Model"
      ]
    },
    {
      "cell_type": "code",
      "execution_count": 15,
      "metadata": {
        "colab": {
          "base_uri": "https://localhost:8080/",
          "height": 75
        },
        "id": "B7qpF7xmCP9N",
        "outputId": "9c8dbebb-c0f5-47af-830f-8005cdf2fc10"
      },
      "outputs": [
        {
          "output_type": "execute_result",
          "data": {
            "text/plain": [
              "RandomForestClassifier(random_state=42)"
            ],
            "text/html": [
              "<style>#sk-container-id-1 {color: black;background-color: white;}#sk-container-id-1 pre{padding: 0;}#sk-container-id-1 div.sk-toggleable {background-color: white;}#sk-container-id-1 label.sk-toggleable__label {cursor: pointer;display: block;width: 100%;margin-bottom: 0;padding: 0.3em;box-sizing: border-box;text-align: center;}#sk-container-id-1 label.sk-toggleable__label-arrow:before {content: \"▸\";float: left;margin-right: 0.25em;color: #696969;}#sk-container-id-1 label.sk-toggleable__label-arrow:hover:before {color: black;}#sk-container-id-1 div.sk-estimator:hover label.sk-toggleable__label-arrow:before {color: black;}#sk-container-id-1 div.sk-toggleable__content {max-height: 0;max-width: 0;overflow: hidden;text-align: left;background-color: #f0f8ff;}#sk-container-id-1 div.sk-toggleable__content pre {margin: 0.2em;color: black;border-radius: 0.25em;background-color: #f0f8ff;}#sk-container-id-1 input.sk-toggleable__control:checked~div.sk-toggleable__content {max-height: 200px;max-width: 100%;overflow: auto;}#sk-container-id-1 input.sk-toggleable__control:checked~label.sk-toggleable__label-arrow:before {content: \"▾\";}#sk-container-id-1 div.sk-estimator input.sk-toggleable__control:checked~label.sk-toggleable__label {background-color: #d4ebff;}#sk-container-id-1 div.sk-label input.sk-toggleable__control:checked~label.sk-toggleable__label {background-color: #d4ebff;}#sk-container-id-1 input.sk-hidden--visually {border: 0;clip: rect(1px 1px 1px 1px);clip: rect(1px, 1px, 1px, 1px);height: 1px;margin: -1px;overflow: hidden;padding: 0;position: absolute;width: 1px;}#sk-container-id-1 div.sk-estimator {font-family: monospace;background-color: #f0f8ff;border: 1px dotted black;border-radius: 0.25em;box-sizing: border-box;margin-bottom: 0.5em;}#sk-container-id-1 div.sk-estimator:hover {background-color: #d4ebff;}#sk-container-id-1 div.sk-parallel-item::after {content: \"\";width: 100%;border-bottom: 1px solid gray;flex-grow: 1;}#sk-container-id-1 div.sk-label:hover label.sk-toggleable__label {background-color: #d4ebff;}#sk-container-id-1 div.sk-serial::before {content: \"\";position: absolute;border-left: 1px solid gray;box-sizing: border-box;top: 0;bottom: 0;left: 50%;z-index: 0;}#sk-container-id-1 div.sk-serial {display: flex;flex-direction: column;align-items: center;background-color: white;padding-right: 0.2em;padding-left: 0.2em;position: relative;}#sk-container-id-1 div.sk-item {position: relative;z-index: 1;}#sk-container-id-1 div.sk-parallel {display: flex;align-items: stretch;justify-content: center;background-color: white;position: relative;}#sk-container-id-1 div.sk-item::before, #sk-container-id-1 div.sk-parallel-item::before {content: \"\";position: absolute;border-left: 1px solid gray;box-sizing: border-box;top: 0;bottom: 0;left: 50%;z-index: -1;}#sk-container-id-1 div.sk-parallel-item {display: flex;flex-direction: column;z-index: 1;position: relative;background-color: white;}#sk-container-id-1 div.sk-parallel-item:first-child::after {align-self: flex-end;width: 50%;}#sk-container-id-1 div.sk-parallel-item:last-child::after {align-self: flex-start;width: 50%;}#sk-container-id-1 div.sk-parallel-item:only-child::after {width: 0;}#sk-container-id-1 div.sk-dashed-wrapped {border: 1px dashed gray;margin: 0 0.4em 0.5em 0.4em;box-sizing: border-box;padding-bottom: 0.4em;background-color: white;}#sk-container-id-1 div.sk-label label {font-family: monospace;font-weight: bold;display: inline-block;line-height: 1.2em;}#sk-container-id-1 div.sk-label-container {text-align: center;}#sk-container-id-1 div.sk-container {/* jupyter's `normalize.less` sets `[hidden] { display: none; }` but bootstrap.min.css set `[hidden] { display: none !important; }` so we also need the `!important` here to be able to override the default hidden behavior on the sphinx rendered scikit-learn.org. See: https://github.com/scikit-learn/scikit-learn/issues/21755 */display: inline-block !important;position: relative;}#sk-container-id-1 div.sk-text-repr-fallback {display: none;}</style><div id=\"sk-container-id-1\" class=\"sk-top-container\"><div class=\"sk-text-repr-fallback\"><pre>RandomForestClassifier(random_state=42)</pre><b>In a Jupyter environment, please rerun this cell to show the HTML representation or trust the notebook. <br />On GitHub, the HTML representation is unable to render, please try loading this page with nbviewer.org.</b></div><div class=\"sk-container\" hidden><div class=\"sk-item\"><div class=\"sk-estimator sk-toggleable\"><input class=\"sk-toggleable__control sk-hidden--visually\" id=\"sk-estimator-id-1\" type=\"checkbox\" checked><label for=\"sk-estimator-id-1\" class=\"sk-toggleable__label sk-toggleable__label-arrow\">RandomForestClassifier</label><div class=\"sk-toggleable__content\"><pre>RandomForestClassifier(random_state=42)</pre></div></div></div></div></div>"
            ]
          },
          "metadata": {},
          "execution_count": 15
        }
      ],
      "source": [
        "model = RandomForestClassifier(n_estimators=100, random_state=42)\n",
        "model.fit(X_train, y_train)"
      ]
    },
    {
      "cell_type": "markdown",
      "metadata": {
        "id": "_8O9h8TECP9N"
      },
      "source": [
        "## Predicting Value of the Testing Set"
      ]
    },
    {
      "cell_type": "code",
      "execution_count": 16,
      "metadata": {
        "id": "Sx3T3tssCP9N"
      },
      "outputs": [],
      "source": [
        "y_pred = model.predict(X_test)"
      ]
    },
    {
      "cell_type": "code",
      "execution_count": 17,
      "metadata": {
        "colab": {
          "base_uri": "https://localhost:8080/"
        },
        "id": "NEu5XExNCP9N",
        "outputId": "4c441028-5614-46ec-c981-e68d5382c054"
      },
      "outputs": [
        {
          "output_type": "stream",
          "name": "stdout",
          "text": [
            "Confusion Matrix:\n",
            "[[347  28  66]\n",
            " [ 71  65 109]\n",
            " [ 19  29 594]]\n",
            "\n",
            "Classification Report:\n",
            "              precision    recall  f1-score   support\n",
            "\n",
            "     Dropout       0.79      0.79      0.79       441\n",
            "    Enrolled       0.53      0.27      0.35       245\n",
            "    Graduate       0.77      0.93      0.84       642\n",
            "\n",
            "    accuracy                           0.76      1328\n",
            "   macro avg       0.70      0.66      0.66      1328\n",
            "weighted avg       0.74      0.76      0.73      1328\n",
            "\n",
            "\n",
            "Accuracy Score:\n",
            "0.7575301204819277\n"
          ]
        }
      ],
      "source": [
        "print(\"Confusion Matrix:\")\n",
        "print(confusion_matrix(y_test, y_pred))\n",
        "\n",
        "print(\"\\nClassification Report:\")\n",
        "print(classification_report(y_test, y_pred))\n",
        "\n",
        "print(\"\\nAccuracy Score:\")\n",
        "print(accuracy_score(y_test, y_pred))\n"
      ]
    },
    {
      "cell_type": "markdown",
      "metadata": {
        "id": "goAe7gbqCP9N"
      },
      "source": [
        "## Saving the Model and Scaler"
      ]
    },
    {
      "cell_type": "code",
      "execution_count": 18,
      "metadata": {
        "colab": {
          "base_uri": "https://localhost:8080/"
        },
        "id": "fEH4UEOgCP9N",
        "outputId": "c7058cc8-4556-4348-8a49-7ceb3b83356d"
      },
      "outputs": [
        {
          "output_type": "execute_result",
          "data": {
            "text/plain": [
              "['scaler.joblib']"
            ]
          },
          "metadata": {},
          "execution_count": 18
        }
      ],
      "source": [
        "dump(model, 'model.joblib')\n",
        "dump(scaler, 'scaler.joblib')"
      ]
    },
    {
      "cell_type": "markdown",
      "metadata": {
        "id": "Tsc2Rb0qCP9N"
      },
      "source": [
        "# **Evaluation**"
      ]
    },
    {
      "cell_type": "markdown",
      "metadata": {
        "id": "k9G_E3E_CP9N"
      },
      "source": [
        "## Most Important Features compared to the target Feature Visualization"
      ]
    },
    {
      "cell_type": "code",
      "execution_count": 19,
      "metadata": {
        "colab": {
          "base_uri": "https://localhost:8080/",
          "height": 718
        },
        "id": "xRBrb3ZBCP9O",
        "outputId": "3a6fc38e-20cb-4049-f251-9a277bdbfcfa"
      },
      "outputs": [
        {
          "output_type": "display_data",
          "data": {
            "text/plain": [
              "<Figure size 1000x800 with 1 Axes>"
            ],
            "image/png": "[encoded data removed]"
          },
          "metadata": {}
        }
      ],
      "source": [
        "# Melihat feature importance\n",
        "feature_importance = pd.Series(model.feature_importances_, index=X.columns).sort_values(ascending=False)\n",
        "\n",
        "plt.figure(figsize=(10, 8))\n",
        "sns.barplot(x=feature_importance, y=feature_importance.index)\n",
        "plt.title('Feature Importance')\n",
        "plt.xlabel('Importance')\n",
        "plt.ylabel('Features')\n",
        "plt.show()"
      ]
    },
    {
      "cell_type": "markdown",
      "metadata": {
        "id": "FJsRnSC7CP9R"
      },
      "source": [
        "## Box plot between Status and the Features"
      ]
    },
    {
      "cell_type": "code",
      "execution_count": 20,
      "metadata": {
        "colab": {
          "base_uri": "https://localhost:8080/",
          "height": 564
        },
        "id": "ZVkXj97JCP9R",
        "outputId": "9720115a-d2db-4c34-a81f-e4336bbe12f3"
      },
      "outputs": [
        {
          "output_type": "display_data",
          "data": {
            "text/plain": [
              "<Figure size 1000x600 with 1 Axes>"
            ],
            "image/png": "[encoded data removed]"
          },
          "metadata": {}
        }
      ],
      "source": [
        "# Box plot antara Status dan Curricular_units_1st_sem_grade\n",
        "plt.figure(figsize=(10, 6))\n",
        "sns.boxplot(x='Status', y='Curricular_units_1st_sem_grade', data=df)\n",
        "plt.title('Box Plot antara Total Nilai siswa pada semester 1 dan Status')\n",
        "plt.xlabel('Status')\n",
        "plt.ylabel('Curricular Units 1st Sem Grade')\n",
        "plt.show()"
      ]
    },
    {
      "cell_type": "code",
      "execution_count": 21,
      "metadata": {
        "colab": {
          "base_uri": "https://localhost:8080/",
          "height": 564
        },
        "id": "BV62bjngCP9R",
        "outputId": "1aa05235-fb2f-4c44-d38e-707dbb52ead0"
      },
      "outputs": [
        {
          "output_type": "display_data",
          "data": {
            "text/plain": [
              "<Figure size 1000x600 with 1 Axes>"
            ],
            "image/png": "[encoded data removed]"
          },
          "metadata": {}
        }
      ],
      "source": [
        "# Box plot antara Status dan Curricular_units_1st_sem_approved\n",
        "plt.figure(figsize=(10, 6))\n",
        "sns.boxplot(x='Status', y='Curricular_units_1st_sem_approved', data=df)\n",
        "plt.title('Box Plot antara Jumlah Kursus yang diambil pada semester 1 dan Status')\n",
        "plt.xlabel('Status')\n",
        "plt.ylabel('Curricular Units 1st Sem Approved')\n",
        "plt.show()"
      ]
    },
    {
      "cell_type": "code",
      "execution_count": 22,
      "metadata": {
        "colab": {
          "base_uri": "https://localhost:8080/",
          "height": 564
        },
        "id": "4gMVyUPJCP9R",
        "outputId": "4e7ef040-0c5d-4860-b978-b4966069996c"
      },
      "outputs": [
        {
          "output_type": "display_data",
          "data": {
            "text/plain": [
              "<Figure size 1000x600 with 1 Axes>"
            ],
            "image/png": "[encoded data removed]"
          },
          "metadata": {}
        }
      ],
      "source": [
        "# Box plot antara Status dan Curricular_units_2nd_sem_grade\n",
        "plt.figure(figsize=(10, 6))\n",
        "sns.boxplot(x='Status', y='Curricular_units_2nd_sem_grade', data=df)\n",
        "plt.title('Box Plot antara Total Nilai mahasiswa pada semester 2 dan Status')\n",
        "plt.xlabel('Status')\n",
        "plt.ylabel('Curricular Units 2nd Sem Grade')\n",
        "plt.show()"
      ]
    },
    {
      "cell_type": "code",
      "execution_count": 23,
      "metadata": {
        "colab": {
          "base_uri": "https://localhost:8080/",
          "height": 564
        },
        "id": "NQm9YHD6CP9R",
        "outputId": "d5210480-3138-4d1c-c339-d77e950ef897"
      },
      "outputs": [
        {
          "output_type": "display_data",
          "data": {
            "text/plain": [
              "<Figure size 1000x600 with 1 Axes>"
            ],
            "image/png": "[encoded data removed]"
          },
          "metadata": {}
        }
      ],
      "source": [
        "# Box plot antara Status dan Curricular_units_2nd_sem_approved\n",
        "plt.figure(figsize=(10, 6))\n",
        "sns.boxplot(x='Status', y='Curricular_units_2nd_sem_approved', data=df)\n",
        "plt.title('Box Plot antara Jumlah Kursus yang diambil pada semester 2 dan Status')\n",
        "plt.xlabel('Status')\n",
        "plt.ylabel('Curricular Units 2nd Sem Approved')\n",
        "plt.show()"
      ]
    },
    {
      "cell_type": "markdown",
      "metadata": {
        "id": "IMNvTvF2CP9R"
      },
      "source": [
        "## Loading the Random Forest Model"
      ]
    },
    {
      "cell_type": "code",
      "execution_count": 24,
      "metadata": {
        "id": "MwWYEsCeCP9S"
      },
      "outputs": [],
      "source": [
        "model_loaded = load('model.joblib')"
      ]
    },
    {
      "cell_type": "markdown",
      "metadata": {
        "id": "z6x2t97QCP9S"
      },
      "source": [
        "## Making an Example Data for Model Testing"
      ]
    },
    {
      "cell_type": "code",
      "execution_count": 25,
      "metadata": {
        "id": "pZPzEKUPCP9S"
      },
      "outputs": [],
      "source": [
        "data_baru = pd.DataFrame({\n",
        "    'Marital_status': [1],  # single\n",
        "    'Application_mode': [1],  # 1st phase - general contingent\n",
        "    'Application_order': [0],  # first choice\n",
        "    'Course': [9130],  # Equinculture\n",
        "    'Daytime_evening_attendance': [1],  # daytime\n",
        "    'Previous_qualification': [1],  # Secondary education\n",
        "    'Previous_qualification_grade': [150],  # example grade\n",
        "    'Nacionality': [1],  # Portuguese\n",
        "    'Mothers_qualification': [1],  # Secondary Education - 12th Year of Schooling or Eq.\n",
        "    'Fathers_qualification': [1],  # Secondary Education - 12th Year of Schooling or Eq.\n",
        "    'Mothers_occupation': [4],  # Administrative staff\n",
        "    'Fathers_occupation': [3],  # Intermediate Level Technicians and Professions\n",
        "    'Admission_grade': [160],  # example admission grade\n",
        "    'Displaced': [0],  # no\n",
        "    'Educational_special_needs': [0],  # no\n",
        "    'Debtor': [0],  # no\n",
        "    'Tuition_fees_up_to_date': [1],  # yes\n",
        "    'Gender': [1],  # male\n",
        "    'Scholarship_holder': [0],  # no\n",
        "    'Age_at_enrollment': [20],  # example age\n",
        "    'International': [0],  # no\n",
        "    'Curricular_units_1st_sem_credited': [0],  # example value\n",
        "    'Curricular_units_1st_sem_enrolled': [5],  # example value\n",
        "    'Curricular_units_1st_sem_evaluations': [3],  # example value\n",
        "    'Curricular_units_1st_sem_approved': [3],  # example value\n",
        "    'Curricular_units_1st_sem_grade': [2.5],  # example grade\n",
        "    'Curricular_units_1st_sem_without_evaluations': [0],  # example value\n",
        "    'Curricular_units_2nd_sem_credited': [0],  # example value\n",
        "    'Curricular_units_2nd_sem_enrolled': [3],  # example value\n",
        "    'Curricular_units_2nd_sem_evaluations': [3],  # example value\n",
        "    'Curricular_units_2nd_sem_approved': [3],  # example value\n",
        "    'Curricular_units_2nd_sem_grade': [2.5],  # example grade\n",
        "    'Curricular_units_2nd_sem_without_evaluations': [0],  # example value\n",
        "    'Unemployment_rate': [5.5],  # example rate\n",
        "    'Inflation_rate': [1.2],  # example rate\n",
        "    'GDP': [20000]  # example GDP\n",
        "})"
      ]
    },
    {
      "cell_type": "markdown",
      "metadata": {
        "id": "KLTlIkndCP9S"
      },
      "source": [
        "## **Prediksi Pada Data Siswa Baru (Example data yang sebelumnya sudah kita buat)**"
      ]
    },
    {
      "cell_type": "code",
      "execution_count": 26,
      "metadata": {
        "colab": {
          "base_uri": "https://localhost:8080/"
        },
        "id": "GbTVPUoOCP9S",
        "outputId": "36e6fb97-5f43-4288-d19f-2a7df403557f"
      },
      "outputs": [
        {
          "output_type": "stream",
          "name": "stdout",
          "text": [
            "Prediction Value for the Data Given: ['Dropout']\n"
          ]
        }
      ],
      "source": [
        "# Standarisasi fitur pada data baru\n",
        "data_baru = scaler.transform(data_baru)\n",
        "\n",
        "# Memprediksi hasil untuk data baru\n",
        "prediksi_baru = model_loaded.predict(data_baru)\n",
        "\n",
        "print(\"Prediction Value for the Data Given:\", prediksi_baru)"
      ]
    }
  ],
  "metadata": {
    "kernelspec": {
      "display_name": "Python 3",
      "language": "python",
      "name": "python3"
    },
    "language_info": {
      "codemirror_mode": {
        "name": "ipython",
        "version": 3
      },
      "file_extension": ".py",
      "mimetype": "text/x-python",
      "name": "python",
      "nbconvert_exporter": "python",
      "pygments_lexer": "ipython3",
      "version": "3.12.1"
    },
    "orig_nbformat": 4,
    "colab": {
      "provenance": []
    }
  },
  "nbformat": 4,
  "nbformat_minor": 0
}